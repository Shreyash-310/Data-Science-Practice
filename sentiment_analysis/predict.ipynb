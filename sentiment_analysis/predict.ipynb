{
 "cells": [
  {
   "cell_type": "code",
   "execution_count": 5,
   "metadata": {},
   "outputs": [],
   "source": [
    "import os\n",
    "import pandas as pd"
   ]
  },
  {
   "cell_type": "code",
   "execution_count": 6,
   "metadata": {},
   "outputs": [],
   "source": [
    "train = pd.read_csv('dataset/train.csv')\n",
    "test = pd.read_csv('dataset/test.csv')"
   ]
  },
  {
   "cell_type": "code",
   "execution_count": 7,
   "metadata": {},
   "outputs": [
    {
     "name": "stdout",
     "output_type": "stream",
     "text": [
      "<class 'pandas.core.frame.DataFrame'>\n",
      "RangeIndex: 2406 entries, 0 to 2405\n",
      "Data columns (total 10 columns):\n",
      " #   Column              Non-Null Count  Dtype  \n",
      "---  ------              --------------  -----  \n",
      " 0   ID                  2406 non-null   int64  \n",
      " 1   Date                2374 non-null   object \n",
      " 2   Time                2352 non-null   object \n",
      " 3   Headline            2372 non-null   object \n",
      " 4   News                2361 non-null   object \n",
      " 5   Source              2360 non-null   object \n",
      " 6   Field               2377 non-null   object \n",
      " 7   Reaction/Sentiment  2406 non-null   float64\n",
      " 8   Polarity            2406 non-null   float64\n",
      " 9   Subjectivity        2406 non-null   float64\n",
      "dtypes: float64(3), int64(1), object(6)\n",
      "memory usage: 188.1+ KB\n"
     ]
    }
   ],
   "source": [
    "train.info()"
   ]
  },
  {
   "cell_type": "code",
   "execution_count": 8,
   "metadata": {},
   "outputs": [
    {
     "name": "stdout",
     "output_type": "stream",
     "text": [
      "<class 'pandas.core.frame.DataFrame'>\n",
      "RangeIndex: 1022 entries, 0 to 1021\n",
      "Data columns (total 9 columns):\n",
      " #   Column        Non-Null Count  Dtype  \n",
      "---  ------        --------------  -----  \n",
      " 0   ID            1022 non-null   int64  \n",
      " 1   Date          1022 non-null   object \n",
      " 2   Time          1022 non-null   object \n",
      " 3   Headline      1022 non-null   object \n",
      " 4   News          1022 non-null   object \n",
      " 5   Source        1022 non-null   object \n",
      " 6   Field         1022 non-null   object \n",
      " 7   Polarity      1022 non-null   float64\n",
      " 8   Subjectivity  1022 non-null   float64\n",
      "dtypes: float64(2), int64(1), object(6)\n",
      "memory usage: 72.0+ KB\n"
     ]
    }
   ],
   "source": [
    "test.info()"
   ]
  },
  {
   "cell_type": "code",
   "execution_count": null,
   "metadata": {},
   "outputs": [],
   "source": []
  }
 ],
 "metadata": {
  "kernelspec": {
   "display_name": "Python 3",
   "language": "python",
   "name": "python3"
  },
  "language_info": {
   "codemirror_mode": {
    "name": "ipython",
    "version": 3
   },
   "file_extension": ".py",
   "mimetype": "text/x-python",
   "name": "python",
   "nbconvert_exporter": "python",
   "pygments_lexer": "ipython3",
   "version": "3.8.10"
  }
 },
 "nbformat": 4,
 "nbformat_minor": 2
}
