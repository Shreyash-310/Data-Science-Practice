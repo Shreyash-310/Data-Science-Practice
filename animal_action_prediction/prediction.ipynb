{
 "cells": [
  {
   "cell_type": "code",
   "execution_count": 7,
   "metadata": {},
   "outputs": [],
   "source": [
    "import os\n",
    "import pandas as pd"
   ]
  },
  {
   "cell_type": "code",
   "execution_count": 8,
   "metadata": {},
   "outputs": [],
   "source": [
    "train = pd.read_csv('dataset/train.csv')\n",
    "test = pd.read_csv('dataset/test.csv')"
   ]
  },
  {
   "cell_type": "code",
   "execution_count": 9,
   "metadata": {},
   "outputs": [
    {
     "name": "stdout",
     "output_type": "stream",
     "text": [
      "<class 'pandas.core.frame.DataFrame'>\n",
      "RangeIndex: 5054 entries, 0 to 5053\n",
      "Data columns (total 48 columns):\n",
      " #   Column               Non-Null Count  Dtype  \n",
      "---  ------               --------------  -----  \n",
      " 0   Instance_ID          5054 non-null   object \n",
      " 1   Position_Part_1_x    5054 non-null   float64\n",
      " 2   Position_Part_1_y    5054 non-null   float64\n",
      " 3   Position_Part_1_z    5054 non-null   float64\n",
      " 4   Anonymous_F1_Part_1  5054 non-null   float64\n",
      " 5   Anonymous_F2_Part_1  5054 non-null   float64\n",
      " 6   Anonymous_F3_Part_1  5054 non-null   float64\n",
      " 7   Anonymous_F4_Part_1  5054 non-null   float64\n",
      " 8   Anonymous_F5_Part_1  5054 non-null   float64\n",
      " 9   Anonymous_F6_Part_1  5054 non-null   float64\n",
      " 10  Position_Part_2_x    5054 non-null   float64\n",
      " 11  Position_Part_2_y    5054 non-null   float64\n",
      " 12  Position_Part_2_z    5054 non-null   float64\n",
      " 13  Anonymous_F1_Part_2  5054 non-null   float64\n",
      " 14  Anonymous_F2_Part_2  5054 non-null   float64\n",
      " 15  Anonymous_F3_Part_2  5054 non-null   float64\n",
      " 16  Anonymous_F4_Part_2  5054 non-null   float64\n",
      " 17  Anonymous_F5_Part_2  5054 non-null   float64\n",
      " 18  Anonymous_F6_Part_2  5054 non-null   float64\n",
      " 19  Position_Part_3_x    5054 non-null   float64\n",
      " 20  Position_Part_3_y    5054 non-null   float64\n",
      " 21  Position_Part_3_z    5054 non-null   float64\n",
      " 22  Anonymous_F1_Part_3  5054 non-null   float64\n",
      " 23  Anonymous_F2_Part_3  5054 non-null   float64\n",
      " 24  Anonymous_F3_Part_3  5054 non-null   float64\n",
      " 25  Anonymous_F4_Part_3  5054 non-null   float64\n",
      " 26  Anonymous_F5_Part_3  5054 non-null   float64\n",
      " 27  Anonymous_F6_Part_3  5054 non-null   float64\n",
      " 28  Position_Part_4_x    5054 non-null   float64\n",
      " 29  Position_Part_4_y    5054 non-null   float64\n",
      " 30  Position_Part_4_z    5054 non-null   float64\n",
      " 31  Anonymous_F1_Part_4  5054 non-null   float64\n",
      " 32  Anonymous_F2_Part_4  5054 non-null   float64\n",
      " 33  Anonymous_F3_Part_4  5054 non-null   float64\n",
      " 34  Anonymous_F4_Part_4  5054 non-null   float64\n",
      " 35  Anonymous_F5_Part_4  5054 non-null   float64\n",
      " 36  Anonymous_F6_Part_4  5054 non-null   float64\n",
      " 37  Anonymous_W1         5054 non-null   float64\n",
      " 38  Anonymous_W2         5054 non-null   float64\n",
      " 39  Anonymous_W3         5054 non-null   float64\n",
      " 40  Anonymous_W4         5054 non-null   float64\n",
      " 41  Anonymous_W5         5054 non-null   float64\n",
      " 42  Anonymous_W6         5054 non-null   float64\n",
      " 43  Anonymous_W7         5054 non-null   float64\n",
      " 44  Anonymous_W8         5054 non-null   float64\n",
      " 45  Anonymous_W9         5054 non-null   float64\n",
      " 46  Anonymous_W10        5054 non-null   float64\n",
      " 47  Action               5054 non-null   object \n",
      "dtypes: float64(46), object(2)\n",
      "memory usage: 1.9+ MB\n"
     ]
    }
   ],
   "source": [
    "train.info()"
   ]
  },
  {
   "cell_type": "code",
   "execution_count": 10,
   "metadata": {},
   "outputs": [
    {
     "name": "stdout",
     "output_type": "stream",
     "text": [
      "<class 'pandas.core.frame.DataFrame'>\n",
      "RangeIndex: 1264 entries, 0 to 1263\n",
      "Data columns (total 47 columns):\n",
      " #   Column               Non-Null Count  Dtype  \n",
      "---  ------               --------------  -----  \n",
      " 0   Instance_ID          1264 non-null   object \n",
      " 1   Position_Part_1_x    1264 non-null   float64\n",
      " 2   Position_Part_1_y    1264 non-null   float64\n",
      " 3   Position_Part_1_z    1264 non-null   float64\n",
      " 4   Anonymous_F1_Part_1  1264 non-null   float64\n",
      " 5   Anonymous_F2_Part_1  1264 non-null   float64\n",
      " 6   Anonymous_F3_Part_1  1264 non-null   float64\n",
      " 7   Anonymous_F4_Part_1  1264 non-null   float64\n",
      " 8   Anonymous_F5_Part_1  1264 non-null   float64\n",
      " 9   Anonymous_F6_Part_1  1264 non-null   float64\n",
      " 10  Position_Part_2_x    1264 non-null   float64\n",
      " 11  Position_Part_2_y    1264 non-null   float64\n",
      " 12  Position_Part_2_z    1264 non-null   float64\n",
      " 13  Anonymous_F1_Part_2  1264 non-null   float64\n",
      " 14  Anonymous_F2_Part_2  1264 non-null   float64\n",
      " 15  Anonymous_F3_Part_2  1264 non-null   float64\n",
      " 16  Anonymous_F4_Part_2  1264 non-null   float64\n",
      " 17  Anonymous_F5_Part_2  1264 non-null   float64\n",
      " 18  Anonymous_F6_Part_2  1264 non-null   float64\n",
      " 19  Position_Part_3_x    1264 non-null   float64\n",
      " 20  Position_Part_3_y    1264 non-null   float64\n",
      " 21  Position_Part_3_z    1264 non-null   float64\n",
      " 22  Anonymous_F1_Part_3  1264 non-null   float64\n",
      " 23  Anonymous_F2_Part_3  1264 non-null   float64\n",
      " 24  Anonymous_F3_Part_3  1264 non-null   float64\n",
      " 25  Anonymous_F4_Part_3  1264 non-null   float64\n",
      " 26  Anonymous_F5_Part_3  1264 non-null   float64\n",
      " 27  Anonymous_F6_Part_3  1264 non-null   float64\n",
      " 28  Position_Part_4_x    1264 non-null   float64\n",
      " 29  Position_Part_4_y    1264 non-null   float64\n",
      " 30  Position_Part_4_z    1264 non-null   float64\n",
      " 31  Anonymous_F1_Part_4  1264 non-null   float64\n",
      " 32  Anonymous_F2_Part_4  1264 non-null   float64\n",
      " 33  Anonymous_F3_Part_4  1264 non-null   float64\n",
      " 34  Anonymous_F4_Part_4  1264 non-null   float64\n",
      " 35  Anonymous_F5_Part_4  1264 non-null   float64\n",
      " 36  Anonymous_F6_Part_4  1264 non-null   float64\n",
      " 37  Anonymous_W1         1264 non-null   float64\n",
      " 38  Anonymous_W2         1264 non-null   float64\n",
      " 39  Anonymous_W3         1264 non-null   float64\n",
      " 40  Anonymous_W4         1264 non-null   float64\n",
      " 41  Anonymous_W5         1264 non-null   float64\n",
      " 42  Anonymous_W6         1264 non-null   float64\n",
      " 43  Anonymous_W7         1264 non-null   float64\n",
      " 44  Anonymous_W8         1264 non-null   float64\n",
      " 45  Anonymous_W9         1264 non-null   float64\n",
      " 46  Anonymous_W10        1264 non-null   float64\n",
      "dtypes: float64(46), object(1)\n",
      "memory usage: 464.2+ KB\n"
     ]
    }
   ],
   "source": [
    "test.info()"
   ]
  },
  {
   "cell_type": "code",
   "execution_count": null,
   "metadata": {},
   "outputs": [],
   "source": []
  }
 ],
 "metadata": {
  "kernelspec": {
   "display_name": "Python 3",
   "language": "python",
   "name": "python3"
  },
  "language_info": {
   "codemirror_mode": {
    "name": "ipython",
    "version": 3
   },
   "file_extension": ".py",
   "mimetype": "text/x-python",
   "name": "python",
   "nbconvert_exporter": "python",
   "pygments_lexer": "ipython3",
   "version": "3.8.10"
  }
 },
 "nbformat": 4,
 "nbformat_minor": 2
}
